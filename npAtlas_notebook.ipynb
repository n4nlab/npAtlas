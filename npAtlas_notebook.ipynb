{
 "cells": [
  {
   "cell_type": "markdown",
   "metadata": {},
   "source": [
    "# \"Visualize, describe, compare\"- nanoinformatics approaches for material-omics [Nanoparticle Atlas]"
   ]
  },
  {
   "cell_type": "code",
   "execution_count": null,
   "metadata": {},
   "outputs": [],
   "source": [
    "from npAtlas_funcs import * #Import all functions from my NP Atlas"
   ]
  },
  {
   "cell_type": "markdown",
   "metadata": {},
   "source": [
    "## Import base dataset\n",
    "All 16 nanoparticle formulations plotted together and individually."
   ]
  },
  {
   "cell_type": "code",
   "execution_count": null,
   "metadata": {},
   "outputs": [],
   "source": [
    "# Init variables\n",
    "path = 'C:/Users/20210014/OneDrive - TU Eindhoven/testingData/_nanoparticleAtlas/nanoparticleAtlas_matchedSettings' # Pay attention to the direction of the slash \"/\"\n",
    "subFraction = 1 # Fraction to subsample the dataset for the MST (it's a computationally heavy operation and sometimes it cannot be computed for the 100% of the data in a normal PC)\n",
    "labelHeader = 'sample' # Header name of the label column"
   ]
  },
  {
   "cell_type": "code",
   "execution_count": null,
   "metadata": {},
   "outputs": [],
   "source": [
    "## Import dataset:\n",
    "data = importData(path)\n",
    "data"
   ]
  },
  {
   "cell_type": "code",
   "execution_count": null,
   "metadata": {},
   "outputs": [],
   "source": [
    "## Clean Dataset\n",
    "unfilteredDataset = npAtlasDataCleaning(data)\n",
    "unfilteredDataset"
   ]
  },
  {
   "cell_type": "code",
   "execution_count": null,
   "metadata": {},
   "outputs": [],
   "source": [
    "## Filter dataset ##\n",
    "\n",
    "# OP1: targetCounts     --> drops samples where #Targets > #localizations\n",
    "# OP2: fittingQuality   --> drops samples where rSquared < 0.8\n",
    "\n",
    "option = 'fittingQuality'\n",
    "filteredDataset = filterDataset(option, unfilteredDataset)\n",
    "filteredDataset # Show dataset"
   ]
  },
  {
   "cell_type": "code",
   "execution_count": null,
   "metadata": {},
   "outputs": [],
   "source": [
    "## Merge the samples that were done by different people (filteredDataset) and separate them for the reproducibility study (reprod_peopleDataset)\n",
    "filteredReprod_peopleDataset, filteredDataset = separateReproducibilityExperiments(filteredDataset, labelHeader)"
   ]
  },
  {
   "cell_type": "code",
   "execution_count": null,
   "metadata": {},
   "outputs": [],
   "source": [
    "##### COLOR PALETTE FOR NANOPARTICLE ATLAS ####\n",
    "colorDict = {'100_medium':'#FFFA90', '100_high':'#FFF758',\n",
    "            '200_low':'#FFE1C7', '200_medium':'#FFC390', '200_high':'#FFA558', \n",
    "            '300_low':'#C6F8FA', '300_medium':'#8DF1F6', '300_high':'#54EAF1', \n",
    "            '500_low': '#E3CAFB','500_medium': '#C894F7','500_high': '#AC5FF3',\n",
    "\n",
    "            'NH2_pG0pM1': '#54AEAD','NH2_pG1pM3': '#BFE5A0','NH2_pG1pM1': '#FFFFBE', 'NH2_pG3pM1': '#FDBF6F','NH2_pG1pM0': '#E95C47'\n",
    "            }"
   ]
  },
  {
   "cell_type": "markdown",
   "metadata": {},
   "source": [
    "### Data exploration"
   ]
  },
  {
   "cell_type": "code",
   "execution_count": null,
   "metadata": {},
   "outputs": [],
   "source": [
    "x = 'Cluster localizations'\n",
    "y1 = 'channel 1 target count'\n",
    "y2 = 'channel 2 target count'\n",
    "title = 'Filtered dataset for samples where rSquared > 0.8'\n",
    "filename = \"qualityFilteredData\"\n",
    "scatterEDA(filteredDataset, x, y1, y2, title, colorDict, labelHeader, filename)"
   ]
  },
  {
   "cell_type": "markdown",
   "metadata": {},
   "source": [
    "## Describe"
   ]
  },
  {
   "cell_type": "code",
   "execution_count": null,
   "metadata": {},
   "outputs": [],
   "source": [
    "##### Calculate classic metrics #####\n",
    "index, pdi, mcv, mean = metrics(filteredDataset, labelHeader)"
   ]
  },
  {
   "cell_type": "code",
   "execution_count": null,
   "metadata": {},
   "outputs": [],
   "source": [
    "#Get the PDI value for the chosen formulation\n",
    "formulation = '500_high'\n",
    "pdiValue = pdi[formulation]\n",
    "pdiFormulation = pd.DataFrame({'Feature': index, 'PDI': pdiValue})\n",
    "print(f'The PDI values for the formulation {formulation} are {pdiFormulation}')"
   ]
  },
  {
   "cell_type": "code",
   "execution_count": null,
   "metadata": {},
   "outputs": [],
   "source": [
    "## Simplify the dataset to plot most relevant features\n",
    "smaller_dataset = reduceFeatures(filteredDataset)\n",
    "smaller_dataset"
   ]
  },
  {
   "cell_type": "code",
   "execution_count": null,
   "metadata": {},
   "outputs": [],
   "source": [
    "index = ['d', 'AR', 'Ab', 'Fab','Fc'] #Rename index if we don't want the automatic labelling\n",
    "samples = uniqueNameSamples = list(set(smaller_dataset['sample'])) # Get all samples\n",
    "compare = False # Flag to plot metrics between 2 samples\n",
    "metricsPlot(smaller_dataset, index, mcv, samples, compare, labelHeader)"
   ]
  },
  {
   "cell_type": "markdown",
   "metadata": {},
   "source": [
    "## Visualize\n",
    "Clustering analysis:\n",
    "1. PCA\n",
    "2. t-SNE\n",
    "3. UMAP\n",
    "4. MST"
   ]
  },
  {
   "cell_type": "code",
   "execution_count": null,
   "metadata": {},
   "outputs": [],
   "source": [
    "# Prepare the dataset for clustering algorithms: PCA, t-SNE AND UMAP\n",
    "minmax = False # True for MST\n",
    "scaledX, target, targetMass, uniqueLabels, features, dataMass = preprocess4clustering(filteredDataset, labelHeader, mean, minmax)"
   ]
  },
  {
   "cell_type": "code",
   "execution_count": null,
   "metadata": {},
   "outputs": [],
   "source": [
    "# Prepare the dataset for clustering algorithms: MST\n",
    "minmax = True # True for MST\n",
    "subsampledDataset, subsampledTarget = subsampleData(filteredDataset, subFraction, labelHeader)\n",
    "normalizedData, target_mst, _, _, _, _ = preprocess4clustering(subsampledDataset, labelHeader, mean, minmax)"
   ]
  },
  {
   "cell_type": "code",
   "execution_count": null,
   "metadata": {},
   "outputs": [],
   "source": [
    "###\n",
    "plt.subplots() # plot emtpy figure to set the style (idk why I get this bug)\n",
    "sns.set_theme(style=\"darkgrid\")\n",
    "plt.close() # close empty figure\n",
    "###"
   ]
  },
  {
   "cell_type": "code",
   "execution_count": null,
   "metadata": {},
   "outputs": [],
   "source": [
    "plotLegend(colorDict) #Plot legend separately"
   ]
  },
  {
   "cell_type": "markdown",
   "metadata": {},
   "source": [
    "### PCA"
   ]
  },
  {
   "cell_type": "code",
   "execution_count": null,
   "metadata": {},
   "outputs": [],
   "source": [
    "nFeatures = 5 # How many top most important features do you want to see on the biplot?\n",
    "pca2D(features, targetMass, scaledX, uniqueLabels, colorDict, nFeatures)"
   ]
  },
  {
   "cell_type": "markdown",
   "metadata": {},
   "source": [
    "### t-SNE"
   ]
  },
  {
   "cell_type": "code",
   "execution_count": null,
   "metadata": {},
   "outputs": [],
   "source": [
    "# Hypertune t-SNE\n",
    "# perplexities = [50, 75, 100, 150, 300, 500, 550, 700, 1000] #we start with these and see if we have to adapt them\n",
    "# tsneTuner(scaledX, targetMass, perplexities, colorDict)"
   ]
  },
  {
   "cell_type": "code",
   "execution_count": null,
   "metadata": {},
   "outputs": [],
   "source": [
    "## Calculate t-SNE with the selected perplexity\n",
    "perplexity = 1000\n",
    "mytsne(scaledX, targetMass, perplexity, uniqueLabels, colorDict)"
   ]
  },
  {
   "cell_type": "markdown",
   "metadata": {},
   "source": [
    "### UMAP"
   ]
  },
  {
   "cell_type": "code",
   "execution_count": null,
   "metadata": {},
   "outputs": [],
   "source": [
    "# Hypertune UMAP\n",
    "# n_neighbors = [10, 15, 25, 50, 75, 100, 200, 500, 1000] #we start with these and see if we have to adapt them\n",
    "# umapTuner(scaledX, targetMass, n_neighbors, colorDict)"
   ]
  },
  {
   "cell_type": "code",
   "execution_count": null,
   "metadata": {},
   "outputs": [],
   "source": [
    "n_neighbors = 15\n",
    "samplePlots = True # Plot all samples separated by color\n",
    "reducer, embedding_df = myumap(scaledX, targetMass, n_neighbors, uniqueLabels, colorDict, samplePlots)"
   ]
  },
  {
   "cell_type": "markdown",
   "metadata": {},
   "source": [
    "#### Interactive UMAP"
   ]
  },
  {
   "cell_type": "code",
   "execution_count": null,
   "metadata": {},
   "outputs": [],
   "source": [
    "mapper = reducer.fit(scaledX)"
   ]
  },
  {
   "cell_type": "code",
   "execution_count": null,
   "metadata": {},
   "outputs": [],
   "source": [
    "hover_data = pd.DataFrame({'index':np.arange(len(dataMass)),\n",
    "                           'Diameter':dataMass[:,0],\n",
    "                           'Aspect ratio': dataMass[:,1],\n",
    "                           'Total Ab': dataMass[:,2],\n",
    "                           'Fab':dataMass[:,13],\n",
    "                           'Fc': dataMass[:,22],\n",
    "                           'Sample': targetMass})"
   ]
  },
  {
   "cell_type": "code",
   "execution_count": null,
   "metadata": {},
   "outputs": [],
   "source": [
    "import umap.plot as umap_plot\n",
    "umap_plot.output_notebook()"
   ]
  },
  {
   "cell_type": "code",
   "execution_count": null,
   "metadata": {},
   "outputs": [],
   "source": [
    "p = umap_plot.interactive(mapper, labels=targetMass, hover_data=hover_data, point_size=2, background='#EAEAF2')\n",
    "umap_plot.show(p)"
   ]
  },
  {
   "cell_type": "markdown",
   "metadata": {},
   "source": [
    "#### FEATURE-COLORED UMAP"
   ]
  },
  {
   "cell_type": "code",
   "execution_count": null,
   "metadata": {},
   "outputs": [],
   "source": [
    "featureToColor = ['Diameter', 'Aspect ratio', 'Cluster localizations', 'channel 1 target count', 'channel 2 target count', 'channel 1 true mean dark time', 'channel 2 true mean dark time', 'channel 1 mean bright time', 'channel 2 mean bright time']\n",
    "featureColoredUmap(filteredDataset, featureToColor, embedding_df, 'umap_1', 'umap_2')"
   ]
  },
  {
   "cell_type": "markdown",
   "metadata": {},
   "source": [
    "### MST"
   ]
  },
  {
   "cell_type": "code",
   "execution_count": null,
   "metadata": {},
   "outputs": [],
   "source": [
    "filename = \"complete\"\n",
    "mymst(normalizedData, target_mst, colorDict, subFraction, filename)"
   ]
  },
  {
   "cell_type": "code",
   "execution_count": null,
   "metadata": {},
   "outputs": [],
   "source": [
    "## Separate experiment type, by separating the samples that contain NH2 in their name ##\n",
    "pattern = r'^NH2.*'\n",
    "data_not_nh2, data_nh2, target_not_nh2, target_nh2 = separateExperimentType(pattern, normalizedData, subsampledTarget)"
   ]
  },
  {
   "cell_type": "code",
   "execution_count": null,
   "metadata": {},
   "outputs": [],
   "source": [
    "filename = \"nonOriented\"\n",
    "mymst(data_not_nh2, target_not_nh2, colorDict, subFraction, filename)"
   ]
  },
  {
   "cell_type": "code",
   "execution_count": null,
   "metadata": {},
   "outputs": [],
   "source": [
    "filename = \"oriented\"\n",
    "mymst(data_nh2, target_nh2, colorDict, subFraction, filename)"
   ]
  },
  {
   "cell_type": "markdown",
   "metadata": {},
   "source": [
    "### Silhouette"
   ]
  },
  {
   "cell_type": "code",
   "execution_count": null,
   "metadata": {},
   "outputs": [],
   "source": [
    "# I re-write the labels so they are in the order that I want to plot:\n",
    "uniqueLabelsSil = [\n",
    "'NH2_pG1pM0',\n",
    "'NH2_pG3pM1',\n",
    "'NH2_pG1pM1',\n",
    "'NH2_pG1pM3',\n",
    "'NH2_pG0pM1',\n",
    "'500_high',\n",
    "'500_medium',\n",
    "'500_low',\n",
    "'300_high',\n",
    "'300_medium',\n",
    "'300_low',\n",
    "'200_high',\n",
    "'200_medium',\n",
    "'200_low',\n",
    "'100_high',\n",
    "'100_medium']"
   ]
  },
  {
   "cell_type": "code",
   "execution_count": null,
   "metadata": {},
   "outputs": [],
   "source": [
    "silhouetteCoefficient(scaledX, targetMass, uniqueLabelsSil, colorDict, labelHeader, pairwise=False, figsize=(17,7)) # Calculate the silhouette coefficient --> quality measure of clustering"
   ]
  },
  {
   "cell_type": "markdown",
   "metadata": {},
   "source": [
    "## Compare\n",
    "Pairwise comparison of samples"
   ]
  },
  {
   "cell_type": "markdown",
   "metadata": {},
   "source": [
    "### Import and clean date dataset"
   ]
  },
  {
   "cell_type": "code",
   "execution_count": null,
   "metadata": {},
   "outputs": [],
   "source": [
    "## Import the dataset separated by experiment date\n",
    "pathDate = 'C:/Users/20210014/OneDrive - TU Eindhoven/testingData/_nanoparticleAtlas/npAtlas_reproByDay' # Pay attention to the direction of the slash \"/\"\n",
    "dataDate = importData(pathDate)\n",
    "dataDate"
   ]
  },
  {
   "cell_type": "code",
   "execution_count": null,
   "metadata": {},
   "outputs": [],
   "source": [
    "## Clean Date Dataset\n",
    "unfilteredDatasetDate = npAtlasDataCleaning(dataDate)\n",
    "unfilteredDatasetDate"
   ]
  },
  {
   "cell_type": "code",
   "execution_count": null,
   "metadata": {},
   "outputs": [],
   "source": [
    "option = 'fittingQuality'\n",
    "filteredDatasetDate = filterDataset(option, unfilteredDatasetDate)\n",
    "filteredDatasetDate # Show dataset"
   ]
  },
  {
   "cell_type": "code",
   "execution_count": null,
   "metadata": {},
   "outputs": [],
   "source": [
    "list(filteredDatasetDate['sample'].unique())"
   ]
  },
  {
   "cell_type": "markdown",
   "metadata": {},
   "source": [
    "### Initialize pipeline"
   ]
  },
  {
   "cell_type": "code",
   "execution_count": null,
   "metadata": {},
   "outputs": [],
   "source": [
    "#Create color dictionary for the people reproducibility study\n",
    "reprodColorDict = {'200_medium_VG':'#8ED081', '200_medium_MT':'#C09BEE', \n",
    "                    '300_medium_VG':'#8ED081', '300_medium_MT':'#C09BEE'}       #   E0B0D5   (PINK)  7BE0AD (GREEN)"
   ]
  },
  {
   "cell_type": "code",
   "execution_count": null,
   "metadata": {},
   "outputs": [],
   "source": [
    "#Create color dictionary for the day reproducibility study\n",
    "dateColorDict = {'300_medium_210616': '#ffd449',\n",
    "                 '300_medium_210617': '#f9a010',\n",
    "                 '300_medium_210630': '#a8d5e2',\n",
    "                 '300_medium_211221': '#548c2f',\n",
    "                 '300_medium_220103': '#104911'}"
   ]
  },
  {
   "cell_type": "code",
   "execution_count": null,
   "metadata": {},
   "outputs": [],
   "source": [
    "# Initialize variables\n",
    "renameHeaders = ['d', 'AR', 'Ab', 'Fab','Fc']\n",
    "samples = ['300_medium_210616', '300_medium_210617', '300_medium_210630', '300_medium_211221', '300_medium_220103'] #Select samples to compare: '300_medium', '100_medium' | '300_medium_MT', '300_medium_VG' | '200_medium_MT', '200_medium_VG' | '300_medium_210616', '300_medium_210617', '300_medium_210630', '300_medium_211221', '300_medium_220103' | 'NH2_pG1pM0', 'NH2_pG0pM1'\n",
    "color = dateColorDict # Select dictionary to use: colorDict | reprodColorDict | dateColorDict\n",
    "pairwiseDataset = filteredDatasetDate #Select dataset to fetch the data from: filteredDataset | filteredReprod_peopleDataset | filteredDatasetDate\n",
    "compare = True # Flag to plot metrics pairwise"
   ]
  },
  {
   "cell_type": "code",
   "execution_count": null,
   "metadata": {},
   "outputs": [],
   "source": [
    "plotLegend(color) #Plot legend separately"
   ]
  },
  {
   "cell_type": "code",
   "execution_count": null,
   "metadata": {},
   "outputs": [],
   "source": [
    "## Create pairwise dataset\n",
    "# dataComp = pairwiseDataset[(pairwiseDataset[labelHeader] == samples[0]) | (pairwiseDataset[labelHeader] == samples[1])] # Extract values from defined pairwise samples\n",
    "\n",
    "## Use this line for the timeline dataset (the full dataset is used here)\n",
    "dataComp = pairwiseDataset"
   ]
  },
  {
   "cell_type": "code",
   "execution_count": null,
   "metadata": {},
   "outputs": [],
   "source": [
    "list(dataComp[labelHeader].unique())"
   ]
  },
  {
   "cell_type": "markdown",
   "metadata": {},
   "source": [
    "### Add control sample to comparison plot"
   ]
  },
  {
   "cell_type": "code",
   "execution_count": null,
   "metadata": {},
   "outputs": [],
   "source": [
    "filteredDataset[filteredDataset[labelHeader] == '500_low']"
   ]
  },
  {
   "cell_type": "code",
   "execution_count": null,
   "metadata": {},
   "outputs": [],
   "source": [
    "## Create pairwise dataset + ADD EXTRA SAMPLE FOR CONTROL\n",
    "dataComp = pairwiseDataset[(pairwiseDataset[labelHeader] == samples[0]) | (pairwiseDataset[labelHeader] == samples[1])] # Extract values from defined pairwise samples\n",
    "dataComp = pd.concat([dataComp, filteredDataset[(filteredDataset[labelHeader] == '500_low')]], ignore_index=True)\n",
    "dataComp"
   ]
  },
  {
   "cell_type": "code",
   "execution_count": null,
   "metadata": {},
   "outputs": [],
   "source": [
    "list(dataComp[labelHeader].unique())"
   ]
  },
  {
   "cell_type": "code",
   "execution_count": null,
   "metadata": {},
   "outputs": [],
   "source": [
    "color = {'200_medium_VG':'#8ED081', '200_medium_MT':'#C09BEE', \n",
    "         '500_low':'#E3CAFB'}       #   E0B0D5   (PINK)  7BE0AD (GREEN)"
   ]
  },
  {
   "cell_type": "markdown",
   "metadata": {},
   "source": [
    "### Metrics"
   ]
  },
  {
   "cell_type": "code",
   "execution_count": null,
   "metadata": {},
   "outputs": [],
   "source": [
    "###\n",
    "plt.subplots() # plot emtpy figure to set the style (idk why I get this bug)\n",
    "sns.set_theme(style=\"ticks\")\n",
    "plt.close() # close empty figure\n",
    "###"
   ]
  },
  {
   "cell_type": "code",
   "execution_count": null,
   "metadata": {},
   "outputs": [],
   "source": [
    "## recalculate metrics for new labels\n",
    "sPairwise, pdiPairwise, mcvPairwise, meanPairwise = metrics(dataComp, labelHeader)\n",
    "smallerPairwise = reduceFeatures(dataComp)"
   ]
  },
  {
   "cell_type": "code",
   "execution_count": null,
   "metadata": {},
   "outputs": [],
   "source": [
    "## Plot matrix with equal axis\n",
    "metricsPlot(smallerPairwise, renameHeaders, mcvPairwise, samples, compare, labelHeader)"
   ]
  },
  {
   "cell_type": "markdown",
   "metadata": {},
   "source": [
    "### UMAP"
   ]
  },
  {
   "cell_type": "code",
   "execution_count": null,
   "metadata": {},
   "outputs": [],
   "source": [
    "###\n",
    "plt.subplots() # plot emtpy figure to set the style (idk why I get this bug)\n",
    "sns.set_theme(style=\"darkgrid\")\n",
    "plt.close() # close empty figure\n",
    "###"
   ]
  },
  {
   "cell_type": "code",
   "execution_count": null,
   "metadata": {},
   "outputs": [],
   "source": [
    "## Re-plot u-map\n",
    "# 1. init dataset\n",
    "minmax = False\n",
    "pairwiseScaledX, _, pairwiseTargetMass, pairwiseUniqueLabels, _, pairwiseDataMass = preprocess4clustering(dataComp, labelHeader, meanPairwise, minmax) # Re-scale the pairwise data"
   ]
  },
  {
   "cell_type": "code",
   "execution_count": null,
   "metadata": {},
   "outputs": [],
   "source": [
    "# 2. re-calculate\n",
    "n_neighbors = 15\n",
    "samplePlots = False # Plot each sample separately\n",
    "reducer, embedding_df = myumap(pairwiseScaledX, pairwiseTargetMass, n_neighbors, pairwiseUniqueLabels, color, samplePlots) "
   ]
  },
  {
   "cell_type": "markdown",
   "metadata": {},
   "source": [
    "### Silhouette"
   ]
  },
  {
   "cell_type": "code",
   "execution_count": null,
   "metadata": {},
   "outputs": [],
   "source": [
    "features = dataComp.columns.values # Get the features names (based on headers)\n",
    "features = np.delete(features, -1) # Delete the last element (column 'sample') NOTE: THIS IS BECAUSE IN MY DATASETS, THE LABEL COLUMN IS ALWAYS THE LAST ONE, CHANGE ACCORDINGLY\n",
    "dataSil = dataComp.loc[:, features].values # Separating out the features\n",
    "targetSil = dataComp.loc[:, labelHeader].values\n",
    "scaledSil = StandardScaler().fit_transform(dataSil) # Standardizing the features (z-score)"
   ]
  },
  {
   "cell_type": "code",
   "execution_count": null,
   "metadata": {},
   "outputs": [],
   "source": [
    "silhouetteCoefficient(scaledSil, targetSil, samples, color, labelHeader, pairwise=True, figsize=(5,7)) # Calculate the silhouette coefficient --> quality measure of clustering"
   ]
  },
  {
   "cell_type": "code",
   "execution_count": null,
   "metadata": {},
   "outputs": [],
   "source": [
    "## Use this cell for the timeline dataset\n",
    "silhouetteCoefficient(dataSil, targetSil, samples, color, labelHeader, pairwise=False, figsize=(5,7)) # Calculate the silhouette coefficient --> quality measure of clustering"
   ]
  },
  {
   "cell_type": "code",
   "execution_count": null,
   "metadata": {},
   "outputs": [],
   "source": [
    "feature = 'Diameter'\n",
    "fig = plt.figure(figsize=(5,10))\n",
    "sns.boxplot(data=filteredDatasetDate, x=labelHeader, y=feature, palette=color) # channel 2 target count\n",
    "plt.ylabel('')\n",
    "plt.xlabel('Diameter', fontsize=18)\n",
    "Path('BOXPLOT').mkdir(parents=True, exist_ok=True)\n",
    "fig.savefig(\"BOXPLOT/diameter.svg\", facecolor=(1,1,1,0), dpi=72, bbox_inches='tight')\n",
    "fig.savefig(\"BOXPLOT/diameter.png\", facecolor=(1,1,1,0), dpi=600, bbox_inches='tight')"
   ]
  },
  {
   "cell_type": "code",
   "execution_count": null,
   "metadata": {},
   "outputs": [],
   "source": [
    "# Histogram plot of the diameter values\n",
    "feature = 'Diameter'\n",
    "fig = plt.figure(figsize=(5,10))\n",
    "sns.histplot(data=filteredDatasetDate, x=feature, hue=labelHeader, palette=color, kde=True)\n"
   ]
  },
  {
   "cell_type": "markdown",
   "metadata": {},
   "source": [
    "### Statistical test (Kruskal-Wallis)"
   ]
  },
  {
   "cell_type": "code",
   "execution_count": null,
   "metadata": {},
   "outputs": [],
   "source": [
    "import numpy as np\n",
    "from scipy import stats\n",
    "import pandas as pd\n",
    "import matplotlib.pyplot as plt\n",
    "import seaborn as sns\n",
    "\n",
    "def analyze_particle_sizes_from_df(df, diameter_col='Diameter', group_col='sample'):\n",
    "    \"\"\"\n",
    "    Perform Kruskal-Wallis H-test on nanoparticle size distributions from a DataFrame.\n",
    "    \n",
    "    Parameters:\n",
    "    df (pandas.DataFrame): DataFrame containing the measurements\n",
    "    diameter_col (str): Name of the column containing diameter measurements\n",
    "    group_col (str): Name of the column containing group labels\n",
    "    \n",
    "    Returns:\n",
    "    dict: Dictionary containing test statistics and visualization\n",
    "    \"\"\"\n",
    "    # Get unique groups\n",
    "    groups = df[group_col].unique()\n",
    "    \n",
    "    # Split data into groups\n",
    "    data_groups = [df[df[group_col] == group][diameter_col].values for group in groups]\n",
    "    \n",
    "    # Perform Kruskal-Wallis H-test\n",
    "    h_statistic, p_value = stats.kruskal(*data_groups)\n",
    "    \n",
    "    # Create a summary of the results\n",
    "    results = {\n",
    "        'h_statistic': h_statistic,\n",
    "        'p_value': p_value,\n",
    "        'significant': p_value < 0.05\n",
    "    }\n",
    "    \n",
    "    # Create visualization\n",
    "    plt.figure(figsize=(12, 5))\n",
    "    \n",
    "    # Create box plot\n",
    "    plt.subplot(1, 2, 1)\n",
    "    sns.boxplot(data=df, x=group_col, y=diameter_col)\n",
    "    plt.title('Size Distribution by Group')\n",
    "    plt.ylabel('Diameter (nm)')\n",
    "    plt.xticks(rotation=45)\n",
    "    \n",
    "    # Create violin plot\n",
    "    plt.subplot(1, 2, 2)\n",
    "    sns.violinplot(data=df, x=group_col, y=diameter_col)\n",
    "    plt.title('Size Distribution Density by Group')\n",
    "    plt.ylabel('Diameter (nm)')\n",
    "    plt.xticks(rotation=45)\n",
    "    \n",
    "    plt.tight_layout()\n",
    "    \n",
    "    return results\n",
    "\n",
    "# Example usage with your DataFrame:\n",
    "results = analyze_particle_sizes_from_df(filteredDatasetDate)\n",
    "\n",
    "print(f\"Kruskal-Wallis H-statistic: {results['h_statistic']:.4f}\")\n",
    "print(f\"p-value: {results['p_value']:.4f}\")\n",
    "print(f\"Statistically significant difference: {results['significant']}\")\n",
    "\n",
    "# Optional: Display summary statistics for each group\n",
    "summary_stats = filteredDatasetDate.groupby('sample')['Diameter'].describe()\n",
    "print(\"\\nSummary Statistics:\")\n",
    "print(summary_stats)"
   ]
  },
  {
   "cell_type": "code",
   "execution_count": null,
   "metadata": {},
   "outputs": [],
   "source": [
    "# Total sample size\n",
    "total_n = len(filteredDatasetDate)\n",
    "\n",
    "# Sample size per group\n",
    "group_sizes = filteredDatasetDate.groupby('sample').size()\n",
    "\n",
    "print(\"\\nSample Sizes:\")\n",
    "print(group_sizes)\n",
    "print(f\"\\nTotal Sample Size: {total_n}\")"
   ]
  },
  {
   "cell_type": "code",
   "execution_count": null,
   "metadata": {},
   "outputs": [],
   "source": [
    "df = filteredDatasetDate\n",
    "diameter_col='Diameter'\n",
    "group_col='sample'\n",
    "\n",
    "# Get unique groups\n",
    "groups = df[group_col].unique()\n",
    "\n",
    "# Split data into groups\n",
    "data_groups = [df[df[group_col] == group][diameter_col].values for group in groups]\n",
    "\n",
    "data_groups"
   ]
  },
  {
   "cell_type": "code",
   "execution_count": null,
   "metadata": {},
   "outputs": [],
   "source": [
    "from scipy import stats\n",
    "import scikit_posthocs as sp\n",
    "\n",
    "dunn = sp.posthoc_dunn(data_groups, p_adjust='bonferroni')"
   ]
  },
  {
   "cell_type": "code",
   "execution_count": null,
   "metadata": {},
   "outputs": [],
   "source": [
    "\n",
    "dunn < 0.00005 # 1 *"
   ]
  },
  {
   "cell_type": "markdown",
   "metadata": {},
   "source": [
    "### Interactive UMAP for the timeline dataset"
   ]
  },
  {
   "cell_type": "code",
   "execution_count": null,
   "metadata": {},
   "outputs": [],
   "source": [
    "mapper = reducer.fit(pairwiseScaledX)"
   ]
  },
  {
   "cell_type": "code",
   "execution_count": null,
   "metadata": {},
   "outputs": [],
   "source": [
    "hover_data = pd.DataFrame({'index':np.arange(len(pairwiseDataMass)),\n",
    "                           'Diameter':pairwiseDataMass[:,0],\n",
    "                           'Aspect ratio': pairwiseDataMass[:,1],\n",
    "                           'Total Ab': pairwiseDataMass[:,2],\n",
    "                           'Fab':pairwiseDataMass[:,13],\n",
    "                           'Fc': pairwiseDataMass[:,22],\n",
    "                           'Sample': pairwiseTargetMass})"
   ]
  },
  {
   "cell_type": "code",
   "execution_count": null,
   "metadata": {},
   "outputs": [],
   "source": [
    "import umap.plot as umap_plot\n",
    "umap_plot.output_notebook()"
   ]
  },
  {
   "cell_type": "code",
   "execution_count": null,
   "metadata": {},
   "outputs": [],
   "source": [
    "p = umap_plot.interactive(mapper, labels=pairwiseTargetMass, hover_data=hover_data, point_size=2, background='#EAEAF2')\n",
    "umap_plot.show(p)"
   ]
  },
  {
   "cell_type": "markdown",
   "metadata": {},
   "source": [
    "### Color per feature for the timeline dataset"
   ]
  },
  {
   "cell_type": "code",
   "execution_count": null,
   "metadata": {},
   "outputs": [],
   "source": [
    "featureToColor = ['Diameter', 'Aspect ratio', 'Cluster localizations', 'channel 1 target count', 'channel 2 target count', 'channel 1 true mean dark time', 'channel 2 true mean dark time', 'channel 1 mean bright time', 'channel 2 mean bright time']\n",
    "featureColoredUmap(filteredDatasetDate, featureToColor, embedding_df, 'umap_1', 'umap_2')\n",
    "\n",
    "# TODO: Plot the aspect ratio separately to control the legend, since the outlier values are biasing the colors (or clean the dataset from those outliers or use a continuous coloring (colorbar))"
   ]
  }
 ],
 "metadata": {
  "kernelspec": {
   "display_name": "npAtlas",
   "language": "python",
   "name": "python3"
  },
  "language_info": {
   "codemirror_mode": {
    "name": "ipython",
    "version": 3
   },
   "file_extension": ".py",
   "mimetype": "text/x-python",
   "name": "python",
   "nbconvert_exporter": "python",
   "pygments_lexer": "ipython3",
   "version": "3.12.3"
  }
 },
 "nbformat": 4,
 "nbformat_minor": 2
}
